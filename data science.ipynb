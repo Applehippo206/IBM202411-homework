{
 "cells": [
  {
   "cell_type": "markdown",
   "id": "bba8592a-704d-4119-94bc-609890901cc8",
   "metadata": {},
   "source": [
    "# Data Science Tools and Ecosystem"
   ]
  },
  {
   "cell_type": "markdown",
   "id": "40a16736-a8c1-458c-b3ef-0f7f295d5620",
   "metadata": {},
   "source": [
    "In this notebook, Data Science Tools and Ecosystem are summarized."
   ]
  },
  {
   "cell_type": "markdown",
   "id": "9ad2cfe8-dacc-4596-adc6-f86bcd96117f",
   "metadata": {},
   "source": [
    "Some of the popular languages that Data Scientists use are:\n",
    "1. Python\n",
    "2. R\n",
    "3. Java\n",
    "4. Julia"
   ]
  },
  {
   "cell_type": "markdown",
   "id": "63fd3804-6439-475c-ac0d-3615f83675da",
   "metadata": {},
   "source": [
    "Some of the commonly used libraries used by Data Scientists include:\n",
    "1. Pandas\n",
    "2. Numpy\n",
    "3. GGPLOT"
   ]
  },
  {
   "cell_type": "markdown",
   "id": "a3c9d13e-3f7f-439b-a55d-2c40ff4a0084",
   "metadata": {},
   "source": [
    "|Data Science Tools|\n",
    "|-|\n",
    "|Spark|\n",
    "|Flink|\n",
    "|MySQL|"
   ]
  },
  {
   "cell_type": "markdown",
   "id": "d584b48c-f585-4d31-8260-508669a7f430",
   "metadata": {},
   "source": [
    "### Below are a few examples of evaluating arithmetic expressions in Python"
   ]
  },
  {
   "cell_type": "code",
   "execution_count": 9,
   "id": "35d3a4b5-d8cc-45e1-9075-db6db684c66f",
   "metadata": {},
   "outputs": [
    {
     "data": {
      "text/plain": [
       "17"
      ]
     },
     "execution_count": 9,
     "metadata": {},
     "output_type": "execute_result"
    }
   ],
   "source": [
    "#This a simple arithmetic expression to mutiply then add integers\n",
    "(3*4)+5"
   ]
  },
  {
   "cell_type": "code",
   "execution_count": 11,
   "id": "0fc84df9-88d2-4a8d-b4bb-20fd8d04c554",
   "metadata": {},
   "outputs": [
    {
     "name": "stdout",
     "output_type": "stream",
     "text": [
      "3.3333333333333335\n"
     ]
    }
   ],
   "source": [
    "#This will convert 200 minutes to hours by diving by 60\n",
    "hours = 200/60\n",
    "print(hours)"
   ]
  },
  {
   "cell_type": "markdown",
   "id": "6609edfc-f63b-4850-bad4-0322b6274ece",
   "metadata": {},
   "source": [
    "**Objectives:**\n",
    "* List popular languages for Data Science\n",
    "* List popular tools for Data Science\n",
    "* List expressions"
   ]
  },
  {
   "cell_type": "markdown",
   "id": "18c4cdd7-00cc-4b62-8986-858a34407bb9",
   "metadata": {},
   "source": [
    "## Author\n",
    "Jingying Ma"
   ]
  },
  {
   "cell_type": "code",
   "execution_count": null,
   "id": "7481953a-6003-4c21-9bff-5c579db1d4ac",
   "metadata": {},
   "outputs": [],
   "source": []
  }
 ],
 "metadata": {
  "kernelspec": {
   "display_name": "Python [conda env:0017]",
   "language": "python",
   "name": "conda-env-0017-py"
  },
  "language_info": {
   "codemirror_mode": {
    "name": "ipython",
    "version": 3
   },
   "file_extension": ".py",
   "mimetype": "text/x-python",
   "name": "python",
   "nbconvert_exporter": "python",
   "pygments_lexer": "ipython3",
   "version": "3.12.7"
  }
 },
 "nbformat": 4,
 "nbformat_minor": 5
}
